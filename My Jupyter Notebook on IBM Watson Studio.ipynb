{
  "metadata": {
    "kernelspec": {
      "name": "python",
      "display_name": "Pyolite",
      "language": "python"
    },
    "language_info": {
      "codemirror_mode": {
        "name": "python",
        "version": 3
      },
      "file_extension": ".py",
      "mimetype": "text/x-python",
      "name": "python",
      "nbconvert_exporter": "python",
      "pygments_lexer": "ipython3",
      "version": "3.8"
    }
  },
  "nbformat_minor": 4,
  "nbformat": 4,
  "cells": [
    {
      "cell_type": "markdown",
      "source": "<center>\n    <img src=\"https://s3-api.us-geo.objectstorage.softlayer.net/cf-courses-data/CognitiveClass/Logos/organization_logo/organization_logo.png\" width=\"300\" alt=\"cognitiveclass.ai logo\"  />\n</center>\n",
      "metadata": {}
    },
    {
      "cell_type": "markdown",
      "source": "#### Add your code below following the instructions given in the course\n",
      "metadata": {}
    },
    {
      "cell_type": "markdown",
      "source": "# My Jupyter Notebook on IBM Watson Studio",
      "metadata": {}
    },
    {
      "cell_type": "markdown",
      "source": "**Umeagukwu Chukwuemeka**\nData Scientist",
      "metadata": {}
    },
    {
      "cell_type": "markdown",
      "source": "*i am interested in data science because i need to make money to feed my family. i also feel it offers me the opportunity to try something new other than being a pharmacist*",
      "metadata": {}
    },
    {
      "cell_type": "markdown",
      "source": "### this is a multiplication and addition of simple numbers",
      "metadata": {}
    },
    {
      "cell_type": "code",
      "source": "3 * 3\n\n3 + 3",
      "metadata": {
        "tags": [],
        "trusted": true
      },
      "execution_count": 1,
      "outputs": [
        {
          "execution_count": 1,
          "output_type": "execute_result",
          "data": {
            "text/plain": "6"
          },
          "metadata": {}
        }
      ]
    },
    {
      "cell_type": "markdown",
      "source": "1. ordered list item\n2. another number\n# Tables\n\nmy | ~head~ | really | hurts\n--- | --- | --- |\ni | need | ~help~ | please ",
      "metadata": {}
    },
    {
      "cell_type": "markdown",
      "source": "My | head | hurts\n--- | --- | ---\n*Still* | `annoyingly` | **sad**\n1 | 2 | 3",
      "metadata": {}
    },
    {
      "cell_type": "code",
      "source": "",
      "metadata": {},
      "execution_count": null,
      "outputs": []
    }
  ]
}